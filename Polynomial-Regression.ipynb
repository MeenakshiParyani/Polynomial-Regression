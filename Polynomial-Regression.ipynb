{
 "cells": [
  {
   "cell_type": "code",
   "execution_count": 1,
   "metadata": {},
   "outputs": [],
   "source": [
    "#Imports\n",
    "import pandas as pd\n",
    "import numpy as np\n",
    "%matplotlib inline\n",
    "import matplotlib.pyplot as plt\n",
    "import sys\n",
    "import math"
   ]
  },
  {
   "cell_type": "code",
   "execution_count": 2,
   "metadata": {},
   "outputs": [
    {
     "data": {
      "image/png": "[encoded data removed]",
      "text/plain": [
       "<matplotlib.figure.Figure at 0x10924d4a8>"
      ]
     },
     "metadata": {},
     "output_type": "display_data"
    },
    {
     "name": "stdout",
     "output_type": "stream",
     "text": [
      " Q.1 - 1st Order Polynomial Regression, Optimized Weights are - [[ 0.43434994  0.03295014]]\n",
      " Q.1 - 1st Order Polynomial Regression, RMSE is - 2.2359787375118474\n"
     ]
    },
    {
     "data": {
      "text/plain": [
       "[<matplotlib.lines.Line2D at 0x112283eb8>]"
      ]
     },
     "execution_count": 2,
     "metadata": {},
     "output_type": "execute_result"
    },
    {
     "data": {
      "image/png": "[encoded data removed]",
      "text/plain": [
       "<matplotlib.figure.Figure at 0x1092a0da0>"
      ]
     },
     "metadata": {},
     "output_type": "display_data"
    }
   ],
   "source": [
    "# Q.1 - 1st Order Polynomial Regression\n",
    "\n",
    "# Reading and plotting data\n",
    "data = pd.read_csv('ex2data1.csv', sep=\",\", encoding='utf-8', header='infer')\n",
    "\n",
    "def get_rmse(x, y, beta):\n",
    "    m = len(x)\n",
    "    inner = np.power(((x * beta.T) - y), 2)\n",
    "    return math.sqrt(np.sum(inner) / (2 * m))\n",
    "\n",
    "def gradientDescentUsingMatrix(x, y, beta, learning_rate, iters):  \n",
    "    temp = np.matrix(np.zeros(beta.shape))\n",
    "    parameters = int(beta.ravel().shape[1])\n",
    "    cost = np.zeros(iters)\n",
    "    old_cost = sys.maxsize\n",
    "    new_cost = sys.maxsize\n",
    "    cost_history = []\n",
    "    for i in range(iters):\n",
    "        error = (x * beta.T) - y\n",
    "        for j in range(parameters):\n",
    "            term = np.multiply(error, x[:,j])\n",
    "            temp[0,j] = beta[0,j] - ((learning_rate / len(x)) * np.sum(term))\n",
    "            \n",
    "        beta = temp\n",
    "        old_cost = new_cost\n",
    "        new_cost = get_rmse(x, y, beta)\n",
    "        if(abs(old_cost - new_cost) < 0.00001):\n",
    "            #print(\"breaking\" + str(old_cost) + str(new_cost))\n",
    "            break;\n",
    "        #print (\"cost : \" + str(new_cost))\n",
    "        cost[i] = str(new_cost)\n",
    "        cost_history.append(new_cost)\n",
    "    #plt.plot(cost_history)\n",
    "    #plt.show()\n",
    "    return beta, cost, new_cost\n",
    "\n",
    "data.insert(0,-1,1) # inserting ones column for beta0\n",
    "df1 = data[[-1,'x']]\n",
    "df2 = data['y']\n",
    "X =  np.matrix(df1.values)\n",
    "Y =  np.matrix(df2.values)\n",
    "beta = np.matrix(np.zeros(X.shape[1]))\n",
    "\n",
    "beta, costs, rmse = gradientDescentUsingMatrix(X, Y, beta, 0.01, 10000)\n",
    "y_pred = X * beta.T # First Order\n",
    "\n",
    "print(\" Q.1 - 1st Order Polynomial Regression, Optimized Weights are -\", beta)\n",
    "print(\" Q.1 - 1st Order Polynomial Regression, RMSE is - \" + str(rmse))\n",
    "\n",
    "plt.scatter(data['x'], data['y'], c='#ef5423')\n",
    "plt.ylabel('Y');\n",
    "plt.xlabel('X');\n",
    "\n",
    "\n",
    "\n",
    "plt.plot(data['x'], y_pred, c='blue',)\n"
   ]
  }
 ],
 "metadata": {
  "kernelspec": {
   "display_name": "Python 3",
   "language": "python",
   "name": "python3"
  },
  "language_info": {
   "codemirror_mode": {
    "name": "ipython",
    "version": 3
   },
   "file_extension": ".py",
   "mimetype": "text/x-python",
   "name": "python",
   "nbconvert_exporter": "python",
   "pygments_lexer": "ipython3",
   "version": "3.6.4"
  }
 },
 "nbformat": 4,
 "nbformat_minor": 2
}
