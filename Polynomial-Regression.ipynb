{
 "cells": [
  {
   "cell_type": "code",
   "execution_count": 1,
   "metadata": {},
   "outputs": [],
   "source": [
    "#Imports\n",
    "import pandas as pd\n",
    "import numpy as np\n",
    "%matplotlib inline\n",
    "import matplotlib.pyplot as plt\n",
    "import sys\n",
    "import math"
   ]
  },
  {
   "cell_type": "code",
   "execution_count": 2,
   "metadata": {},
   "outputs": [
    {
     "name": "stdout",
     "output_type": "stream",
     "text": [
      " Q.1-1 - 1st Order Polynomial Regression, Optimized Weights are - [[ 0.43434994  0.03295014]]\n",
      " Q.1-1 - 1st Order Polynomial Regression, RMSE is - 2.2359787375118474\n"
     ]
    },
    {
     "data": {
      "image/png": "[encoded data removed]",
      "text/plain": [
       "<matplotlib.figure.Figure at 0x108953da0>"
      ]
     },
     "metadata": {},
     "output_type": "display_data"
    }
   ],
   "source": [
    "# Q.1-1 - 1st Order Polynomial Regression\n",
    "\n",
    "# Reading and plotting data\n",
    "data1 = pd.read_csv('ex2data1.csv', sep=\",\", encoding='utf-8', header='infer')\n",
    "df = data1.copy()\n",
    "def get_rmse(x, y, beta):\n",
    "    m = len(x)\n",
    "    inner = np.power(((x * beta.T) - y), 2)\n",
    "    return math.sqrt(np.sum(inner) / (2 * m))\n",
    "\n",
    "def drawPlot(Xcord, Ycord, y_pred, order):\n",
    "    plt.scatter(Xcord, Ycord, c='#ef5423', marker='x')\n",
    "    plt.ylabel('Y');\n",
    "    plt.xlabel('X');\n",
    "    order = '1st' if order == 1 else '2nd' if order ==2 else '3rd' if order == 3 else order+'th'\n",
    "    plt.title('Line fitting for ' + order + ' Order Polynomial Regression')\n",
    "    plt.plot(Xcord, y_pred, c='blue')\n",
    "\n",
    "def gradientDescentUsingMatrix(x, y, beta, learning_rate, iters):  \n",
    "    temp = np.matrix(np.zeros(beta.shape))\n",
    "    parameters = int(beta.ravel().shape[1])\n",
    "    cost = np.zeros(iters)\n",
    "    old_cost = sys.maxsize\n",
    "    new_cost = sys.maxsize\n",
    "    cost_history = []\n",
    "    for i in range(iters):\n",
    "        error = (x * beta.T) - y\n",
    "        for j in range(parameters):\n",
    "            term = np.multiply(error, x[:,j])\n",
    "            temp[0,j] = beta[0,j] - ((learning_rate / len(x)) * np.sum(term))\n",
    "            \n",
    "        beta = temp\n",
    "        old_cost = new_cost\n",
    "        new_cost = get_rmse(x, y, beta)\n",
    "        if(abs(old_cost - new_cost) < 0.00001):\n",
    "            #print(\"breaking\" + str(old_cost) + str(new_cost))\n",
    "            break;\n",
    "        #print (\"cost : \" + str(new_cost))\n",
    "        cost[i] = str(new_cost)\n",
    "        cost_history.append(new_cost)\n",
    "    #plt.plot(cost_history)\n",
    "    #plt.show()\n",
    "    return beta, cost, new_cost\n",
    "\n",
    "df.insert(0,-1,1) # inserting ones column for beta0\n",
    "df1 = df[[-1,'x']]\n",
    "df2 = df['y']\n",
    "X =  np.matrix(df1.values)\n",
    "Y =  np.matrix(df2.values)\n",
    "beta = np.matrix(np.zeros(X.shape[1]))\n",
    "beta, costs, rmse = gradientDescentUsingMatrix(X, Y, beta, 0.01, 10000)\n",
    "y_pred = X * beta.T\n",
    "drawPlot(df['x'], df['y'], y_pred, 1);\n",
    "print(\" Q.1-1 - 1st Order Polynomial Regression, Optimized Weights are -\", beta)\n",
    "print(\" Q.1-1 - 1st Order Polynomial Regression, RMSE is - \" + str(rmse))"
   ]
  },
  {
   "cell_type": "code",
   "execution_count": 3,
   "metadata": {},
   "outputs": [
    {
     "name": "stdout",
     "output_type": "stream",
     "text": [
      " Q.1-2 - 2nd Order Polynomial Regression, Optimized Weights are - [[ 0.68207425 -0.75467887 -0.71247584]]\n",
      " Q.1-2 - 2nd Order Polynomial Regression, RMSE is - 0.3442417901444065\n"
     ]
    },
    {
     "data": {
      "image/png": "[encoded data removed]",
      "text/plain": [
       "<matplotlib.figure.Figure at 0x103424e48>"
      ]
     },
     "metadata": {},
     "output_type": "display_data"
    }
   ],
   "source": [
    "# Q.1-2 - 2nd Order Polynomial Regression\n",
    "\n",
    "def generatePolynomialInput(df, order):\n",
    "    for i in range(2,order+1):\n",
    "        df[i] = df['x']**i\n",
    "    return df\n",
    "\n",
    "def performPolynomialRegression(X, Y, learning_rate, iters, order):\n",
    "    beta = np.matrix(np.zeros(order+1))\n",
    "    normalized_df_poly = generatePolynomialInput(X, order)\n",
    "    #print(normalized_df_poly.head())\n",
    "    XM = np.matrix(normalized_df_poly)\n",
    "    YM = np.matrix(Y)\n",
    "    Xcord = list(XM[:,1].flat)\n",
    "    Ycord = list(YM[:,0].flat)\n",
    "    beta, costs, rmse = gradientDescentUsingMatrix(XM, YM, beta, learning_rate, iters)\n",
    "    y_pred = XM * beta.T\n",
    "    drawPlot(Xcord, Ycord, y_pred, order);\n",
    "    return beta, rmse\n",
    "\n",
    "# Normalize the data for proper scaling\n",
    "df = data1\n",
    "normalized_df=(df-df.mean())/df.std()\n",
    "normalized_df.insert(0,-1,1)# inserting ones column for beta0\n",
    "normalized_df = normalized_df.sort_values(by=['x']) # sort values for plotting sane graph\n",
    "X = normalized_df[[-1,'x']]\n",
    "Y = normalized_df[['y']]\n",
    "\n",
    "beta, rmse = performPolynomialRegression(X, Y, 0.09, 10000, 2)\n",
    "print(\" Q.1-2 - 2nd Order Polynomial Regression, Optimized Weights are -\", beta)\n",
    "print(\" Q.1-2 - 2nd Order Polynomial Regression, RMSE is - \" + str(rmse))"
   ]
  }
 ],
 "metadata": {
  "kernelspec": {
   "display_name": "Python 3",
   "language": "python",
   "name": "python3"
  },
  "language_info": {
   "codemirror_mode": {
    "name": "ipython",
    "version": 3
   },
   "file_extension": ".py",
   "mimetype": "text/x-python",
   "name": "python",
   "nbconvert_exporter": "python",
   "pygments_lexer": "ipython3",
   "version": "3.6.4"
  }
 },
 "nbformat": 4,
 "nbformat_minor": 2
}
